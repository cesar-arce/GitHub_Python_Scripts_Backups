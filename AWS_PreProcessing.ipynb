{
 "cells": [
  {
   "cell_type": "markdown",
   "id": "d7a46f78-e50d-446a-9e3f-f4c56aeac4dd",
   "metadata": {},
   "source": [
    "## Premanipulation des données"
   ]
  },
  {
   "cell_type": "code",
   "execution_count": null,
   "id": "0d9795c0-accf-4507-9962-7c184e35e523",
   "metadata": {},
   "outputs": [],
   "source": [
    "import pandas as pd"
   ]
  },
  {
   "cell_type": "code",
   "execution_count": null,
   "id": "256026c2-a826-419d-95e7-48f7c727a38e",
   "metadata": {},
   "outputs": [],
   "source": [
    "# To create a dictionary from an Excel file\n",
    "dev_source = pd.read_excel(\"Treeview_Compartiments_dev_sapco_autocommit.xlsx\")\n",
    "dev_source = dev_source[['source','target']]\n",
    "dict_source = dev_source.to_dict(orient='records')\n",
    "print(dict_source)\n",
    "# [{'source': 'SAPCO/Inbound/Financials/Costing', 'target': 'SAPCO/Archive/Financials/Costing'},{...},....,{...}]"
   ]
  },
  {
   "cell_type": "code",
   "execution_count": null,
   "id": "7872a318-10e2-45d0-a957-3b78558040dc",
   "metadata": {},
   "outputs": [],
   "source": [
    "# To be ready to use each row\n",
    "for row in dict_source:\n",
    "    source=row['source']\n",
    "    target=row['target']\n",
    "    result ='source=\"{}\" target=\"{}\"'.format(source, target)\n",
    "    print(result)\n",
    "# source=\"SAPCO/Inbound/Financials/Costing\" target=\"SAPCO/Archive/Financials/Costing\""
   ]
  }
 ],
 "metadata": {
  "hide_input": false,
  "kernelspec": {
   "display_name": "Python 3 (ipykernel)",
   "language": "python",
   "name": "python3"
  },
  "language_info": {
   "codemirror_mode": {
    "name": "ipython",
    "version": 3
   },
   "file_extension": ".py",
   "mimetype": "text/x-python",
   "name": "python",
   "nbconvert_exporter": "python",
   "pygments_lexer": "ipython3",
   "version": "3.9.13"
  },
  "nbTranslate": {
   "displayLangs": [
    "*"
   ],
   "hotkey": "alt-t",
   "langInMainMenu": true,
   "sourceLang": "en",
   "targetLang": "fr",
   "useGoogleTranslate": true
  },
  "varInspector": {
   "cols": {
    "lenName": 16,
    "lenType": 16,
    "lenVar": 40
   },
   "kernels_config": {
    "python": {
     "delete_cmd_postfix": "",
     "delete_cmd_prefix": "del ",
     "library": "var_list.py",
     "varRefreshCmd": "print(var_dic_list())"
    },
    "r": {
     "delete_cmd_postfix": ") ",
     "delete_cmd_prefix": "rm(",
     "library": "var_list.r",
     "varRefreshCmd": "cat(var_dic_list()) "
    }
   },
   "types_to_exclude": [
    "module",
    "function",
    "builtin_function_or_method",
    "instance",
    "_Feature"
   ],
   "window_display": false
  }
 },
 "nbformat": 4,
 "nbformat_minor": 5
}
